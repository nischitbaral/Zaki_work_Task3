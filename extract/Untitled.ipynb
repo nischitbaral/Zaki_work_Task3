{
 "cells": [
  {
   "cell_type": "code",
   "execution_count": 13,
   "id": "4af85d04-1420-44f4-8679-7efcdf97a397",
   "metadata": {},
   "outputs": [],
   "source": [
    "from pyspark.sql import SparkSession \n",
    "from pyspark.sql.functions import explode,col,expr,when\n"
   ]
  },
  {
   "cell_type": "code",
   "execution_count": 14,
   "id": "fb4184f5-75e7-4cc4-96e1-2acfe375ea54",
   "metadata": {},
   "outputs": [],
   "source": [
    "spark = SparkSession.builder.appName('task').getOrCreate()"
   ]
  },
  {
   "cell_type": "code",
   "execution_count": 15,
   "id": "5682d725-0011-4285-b9fb-df7d1587e0c3",
   "metadata": {},
   "outputs": [
    {
     "data": {
      "text/html": [
       "\n",
       "            <div>\n",
       "                <p><b>SparkSession - in-memory</b></p>\n",
       "                \n",
       "        <div>\n",
       "            <p><b>SparkContext</b></p>\n",
       "\n",
       "            <p><a href=\"http://10.10.42.113:4041\">Spark UI</a></p>\n",
       "\n",
       "            <dl>\n",
       "              <dt>Version</dt>\n",
       "                <dd><code>v3.5.5</code></dd>\n",
       "              <dt>Master</dt>\n",
       "                <dd><code>local[*]</code></dd>\n",
       "              <dt>AppName</dt>\n",
       "                <dd><code>task</code></dd>\n",
       "            </dl>\n",
       "        </div>\n",
       "        \n",
       "            </div>\n",
       "        "
      ],
      "text/plain": [
       "<pyspark.sql.session.SparkSession at 0x7f4e1c728bb0>"
      ]
     },
     "execution_count": 15,
     "metadata": {},
     "output_type": "execute_result"
    }
   ],
   "source": [
    "spark"
   ]
  },
  {
   "cell_type": "code",
   "execution_count": 16,
   "id": "535023e5-8d9d-4142-848a-af30b6ccb3df",
   "metadata": {},
   "outputs": [],
   "source": [
    "df_pyspark = spark.read.option('multiline','true').json('example.json')"
   ]
  },
  {
   "cell_type": "code",
   "execution_count": 17,
   "id": "b28c9921-0667-48d8-a703-2eb792939b4f",
   "metadata": {},
   "outputs": [
    {
     "name": "stdout",
     "output_type": "stream",
     "text": [
      "root\n",
      " |-- provider_group_id: long (nullable = true)\n",
      " |-- provider_groups: array (nullable = true)\n",
      " |    |-- element: struct (containsNull = true)\n",
      " |    |    |-- npi: array (nullable = true)\n",
      " |    |    |    |-- element: long (containsNull = true)\n",
      " |    |    |-- tin: struct (nullable = true)\n",
      " |    |    |    |-- type: string (nullable = true)\n",
      " |    |    |    |-- value: string (nullable = true)\n",
      "\n"
     ]
    }
   ],
   "source": [
    "df_pyspark.printSchema()"
   ]
  },
  {
   "cell_type": "code",
   "execution_count": 18,
   "id": "25c4c989-9fbf-4c2d-9422-41fd1f255280",
   "metadata": {},
   "outputs": [
    {
     "name": "stdout",
     "output_type": "stream",
     "text": [
      "+-----------------+--------------------+\n",
      "|provider_group_id|     provider_groups|\n",
      "+-----------------+--------------------+\n",
      "|         10001001|[{[1235233008, 13...|\n",
      "|         10002001|[{[1609829761, 18...|\n",
      "|         10003001|[{[1720350119], {...|\n",
      "|         10004001|[{[1417152349, 16...|\n",
      "|         10006001|[{[1043293582, 19...|\n",
      "|         10007001|[{[1275520645], {...|\n",
      "|         10008001|[{[1114026911], {...|\n",
      "|         10009001|[{[1003084302, 10...|\n",
      "|         10010001|[{[1710182167], {...|\n",
      "|         10011001|[{[1326039934, 14...|\n",
      "|         10012001|[{[1023093721, 12...|\n",
      "|         10013001|[{[1003127622, 10...|\n",
      "|         10014001|[{[1871582346], {...|\n",
      "|         10015001|[{[1194743344, 12...|\n",
      "|         10016001|[{[1003038530, 10...|\n",
      "|         10017001|[{[1063644110, 10...|\n",
      "|         10018001|[{[1003016411, 10...|\n",
      "|         10019001|[{[1083710446, 11...|\n",
      "|         10020001|[{[1740552942], {...|\n",
      "|         10021001|[{[1477653954], {...|\n",
      "+-----------------+--------------------+\n",
      "only showing top 20 rows\n",
      "\n"
     ]
    }
   ],
   "source": [
    "df_pyspark.show()"
   ]
  },
  {
   "cell_type": "code",
   "execution_count": null,
   "id": "f2826e75-9083-47ba-8f08-8528d1d92d85",
   "metadata": {},
   "outputs": [],
   "source": []
  },
  {
   "cell_type": "code",
   "execution_count": null,
   "id": "aba074d5-c15b-4432-b2d6-dd7306982682",
   "metadata": {},
   "outputs": [],
   "source": []
  },
  {
   "cell_type": "code",
   "execution_count": null,
   "id": "61650fca-450e-43a7-8d1f-4b84c3b8f245",
   "metadata": {},
   "outputs": [],
   "source": []
  },
  {
   "cell_type": "code",
   "execution_count": null,
   "id": "7be45fbe-76e2-4f17-92b3-24301612cd68",
   "metadata": {},
   "outputs": [],
   "source": []
  },
  {
   "cell_type": "code",
   "execution_count": null,
   "id": "12b61ae2-c858-451f-ac3c-b31d5d8d3ab3",
   "metadata": {},
   "outputs": [],
   "source": []
  }
 ],
 "metadata": {
  "kernelspec": {
   "display_name": "Python 3 (ipykernel)",
   "language": "python",
   "name": "python3"
  },
  "language_info": {
   "codemirror_mode": {
    "name": "ipython",
    "version": 3
   },
   "file_extension": ".py",
   "mimetype": "text/x-python",
   "name": "python",
   "nbconvert_exporter": "python",
   "pygments_lexer": "ipython3",
   "version": "3.10.12"
  }
 },
 "nbformat": 4,
 "nbformat_minor": 5
}
