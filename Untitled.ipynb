{
 "cells": [
  {
   "cell_type": "code",
   "execution_count": null,
   "id": "86838e45-4b80-4fba-b472-822305b59d81",
   "metadata": {},
   "outputs": [],
   "source": []
  }
 ],
 "metadata": {
  "kernelspec": {
   "display_name": "",
   "name": ""
  },
  "language_info": {
   "name": ""
  }
 },
 "nbformat": 4,
 "nbformat_minor": 5
}
