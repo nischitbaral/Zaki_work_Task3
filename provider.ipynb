{
 "cells": [
  {
   "cell_type": "code",
   "execution_count": 1,
   "id": "54d09565-1d12-4955-94a1-3125bb0a443c",
   "metadata": {},
   "outputs": [],
   "source": [
    "from pyspark.sql import SparkSession \n",
    "from pyspark.sql.functions import explode,col,expr,when\n",
    "from pyspark.sql.types import ArrayType, IntegerType, ShortType\n",
    "import pandas as pd\n"
   ]
  },
  {
   "cell_type": "code",
   "execution_count": 2,
   "id": "72493e24-3559-47e1-a548-aa6670f83fe7",
   "metadata": {},
   "outputs": [
    {
     "name": "stderr",
     "output_type": "stream",
     "text": [
      "25/04/29 17:28:08 WARN Utils: Your hostname, nischit-baral resolves to a loopback address: 127.0.1.1; using 10.10.42.113 instead (on interface enp2s0)\n",
      "25/04/29 17:28:08 WARN Utils: Set SPARK_LOCAL_IP if you need to bind to another address\n",
      "Setting default log level to \"WARN\".\n",
      "To adjust logging level use sc.setLogLevel(newLevel). For SparkR, use setLogLevel(newLevel).\n",
      "25/04/29 17:28:08 WARN NativeCodeLoader: Unable to load native-hadoop library for your platform... using builtin-java classes where applicable\n",
      "25/04/29 17:28:09 WARN Utils: Service 'SparkUI' could not bind on port 4040. Attempting port 4041.\n"
     ]
    }
   ],
   "source": [
    "spark = SparkSession.builder.appName('task_3').getOrCreate()"
   ]
  },
  {
   "cell_type": "code",
   "execution_count": 3,
   "id": "c0d22cc0-1f3b-4a19-ac62-9973aa2fdac6",
   "metadata": {},
   "outputs": [
    {
     "data": {
      "text/html": [
       "\n",
       "            <div>\n",
       "                <p><b>SparkSession - in-memory</b></p>\n",
       "                \n",
       "        <div>\n",
       "            <p><b>SparkContext</b></p>\n",
       "\n",
       "            <p><a href=\"http://10.10.42.113:4041\">Spark UI</a></p>\n",
       "\n",
       "            <dl>\n",
       "              <dt>Version</dt>\n",
       "                <dd><code>v3.5.5</code></dd>\n",
       "              <dt>Master</dt>\n",
       "                <dd><code>local[*]</code></dd>\n",
       "              <dt>AppName</dt>\n",
       "                <dd><code>task_3</code></dd>\n",
       "            </dl>\n",
       "        </div>\n",
       "        \n",
       "            </div>\n",
       "        "
      ],
      "text/plain": [
       "<pyspark.sql.session.SparkSession at 0x7e7576fe9060>"
      ]
     },
     "execution_count": 3,
     "metadata": {},
     "output_type": "execute_result"
    }
   ],
   "source": [
    "spark"
   ]
  },
  {
   "cell_type": "code",
   "execution_count": 4,
   "id": "7c1c4871-b705-4b92-b10e-e3f2078913f5",
   "metadata": {},
   "outputs": [
    {
     "name": "stderr",
     "output_type": "stream",
     "text": [
      "                                                                                "
     ]
    }
   ],
   "source": [
    "df_pyspark = spark.read.option('multiline','true').json('works.json')\n"
   ]
  },
  {
   "cell_type": "code",
   "execution_count": 5,
   "id": "9afcb134-a3af-4de8-8086-6ab7d5e11ceb",
   "metadata": {},
   "outputs": [
    {
     "name": "stdout",
     "output_type": "stream",
     "text": [
      "root\n",
      " |-- provider_group_id: long (nullable = true)\n",
      " |-- provider_groups: array (nullable = true)\n",
      " |    |-- element: struct (containsNull = true)\n",
      " |    |    |-- npi: array (nullable = true)\n",
      " |    |    |    |-- element: long (containsNull = true)\n",
      " |    |    |-- tin: struct (nullable = true)\n",
      " |    |    |    |-- type: string (nullable = true)\n",
      " |    |    |    |-- value: string (nullable = true)\n",
      "\n"
     ]
    }
   ],
   "source": [
    "# df_pyspark.show()\n",
    "df_pyspark.printSchema()"
   ]
  },
  {
   "cell_type": "code",
   "execution_count": 6,
   "id": "09c9d6c7-ccab-4b2f-b90c-e9634f572593",
   "metadata": {},
   "outputs": [
    {
     "name": "stderr",
     "output_type": "stream",
     "text": [
      "                                                                                "
     ]
    },
    {
     "name": "stdout",
     "output_type": "stream",
     "text": [
      "+-----------------+----------+--------+----------+\n",
      "|provider_group_id|       npi|tin_type|       tin|\n",
      "+-----------------+----------+--------+----------+\n",
      "|         10001001|1235233008|     ein|04-3267217|\n",
      "|         10001001|1316041189|     ein|04-3267217|\n",
      "|         10001001|1780788554|     ein|04-3267217|\n",
      "|         10001001|1891068409|     ein|04-3267217|\n",
      "|         10001001|1366459570|     ein|11-1562701|\n",
      "|         10001001|1417915653|     ein|11-3358535|\n",
      "|         10001001|1417915653|     ein|13-3888838|\n",
      "|         10002001|1609829761|     ein|00-0004110|\n",
      "|         10002001|1821482241|     ein|00-0004110|\n",
      "|         10002001|1760986277|     ein|00-6980743|\n",
      "|         10002001|1215075882|     ein|01-0550744|\n",
      "|         10002001|1013917665|     ein|01-0555304|\n",
      "|         10002001|1679780811|     ein|01-0555483|\n",
      "|         10002001|1700093952|     ein|01-0555483|\n",
      "|         10002001|1780072447|     ein|01-0555483|\n",
      "|         10002001|1952532970|     ein|01-0555483|\n",
      "|         10002001|1376647511|     ein|01-0567880|\n",
      "|         10002001|1740287010|     ein|01-0569673|\n",
      "|         10002001|1265538219|     ein|01-0571165|\n",
      "|         10002001|1689625253|     ein|01-0577025|\n",
      "+-----------------+----------+--------+----------+\n",
      "only showing top 20 rows\n",
      "\n"
     ]
    }
   ],
   "source": [
    "provider_group = df_pyspark.withColumn(\"new_provider\", explode(\"provider_groups\"))\n",
    "providers_n = provider_group.withColumn(\"npi_exp\", explode(\"new_provider.npi\"))\n",
    "\n",
    "\n",
    "provider_again = providers_n.select(\n",
    "    \"provider_group_id\",\n",
    "    col(\"npi_exp\").alias(\"npi\"),\n",
    "    col(\"new_provider.tin.type\").alias(\"tin_type\"),\n",
    "    col(\"new_provider.tin.value\").alias(\"tin\")\n",
    ")         \n",
    "\n",
    "provider_again.show()"
   ]
  },
  {
   "cell_type": "code",
   "execution_count": null,
   "id": "b1d9efb5-f534-4d76-9af0-9e134ce4e3c9",
   "metadata": {},
   "outputs": [],
   "source": []
  },
  {
   "cell_type": "code",
   "execution_count": 7,
   "id": "9e49d7cd-bf56-442e-a6db-8817df115f88",
   "metadata": {},
   "outputs": [
    {
     "name": "stdout",
     "output_type": "stream",
     "text": [
      "+-----------------+----------+--------+---------+\n",
      "|provider_group_id|       npi|tin_type|      tin|\n",
      "+-----------------+----------+--------+---------+\n",
      "|         10001001|1235233008|     ein|043267217|\n",
      "|         10001001|1316041189|     ein|043267217|\n",
      "|         10001001|1780788554|     ein|043267217|\n",
      "|         10001001|1891068409|     ein|043267217|\n",
      "|         10001001|1366459570|     ein|111562701|\n",
      "|         10001001|1417915653|     ein|113358535|\n",
      "|         10001001|1417915653|     ein|133888838|\n",
      "|         10002001|1609829761|     ein|000004110|\n",
      "|         10002001|1821482241|     ein|000004110|\n",
      "|         10002001|1760986277|     ein|006980743|\n",
      "|         10002001|1215075882|     ein|010550744|\n",
      "|         10002001|1013917665|     ein|010555304|\n",
      "|         10002001|1679780811|     ein|010555483|\n",
      "|         10002001|1700093952|     ein|010555483|\n",
      "|         10002001|1780072447|     ein|010555483|\n",
      "|         10002001|1952532970|     ein|010555483|\n",
      "|         10002001|1376647511|     ein|010567880|\n",
      "|         10002001|1740287010|     ein|010569673|\n",
      "|         10002001|1265538219|     ein|010571165|\n",
      "|         10002001|1689625253|     ein|010577025|\n",
      "+-----------------+----------+--------+---------+\n",
      "only showing top 20 rows\n",
      "\n"
     ]
    }
   ],
   "source": [
    "rem_hyp = provider_again.withColumn('tin', expr(\"replace(tin,'-','')\"))\n",
    "rem_hyp.show()"
   ]
  },
  {
   "cell_type": "code",
   "execution_count": 8,
   "id": "12062bcd-43b9-4ab4-a450-9e8aeafc482e",
   "metadata": {},
   "outputs": [],
   "source": [
    "# rem_hyp.toPandas().to_json('in_prov.json', orient='records')"
   ]
  },
  {
   "cell_type": "code",
   "execution_count": 9,
   "id": "58ba396b-75a8-45a7-8e92-fb4da6e322ad",
   "metadata": {},
   "outputs": [],
   "source": [
    "df = rem_hyp.withColumn('tin_type',\n",
    "     when((col('tin_type')== 'ein'), 1).when((col('tin_type')== 'npi'), 2)\n",
    "\n",
    "                       )"
   ]
  },
  {
   "cell_type": "code",
   "execution_count": 10,
   "id": "1c5e8a84-2bee-4a55-8b4e-f4d569027ef8",
   "metadata": {},
   "outputs": [
    {
     "name": "stdout",
     "output_type": "stream",
     "text": [
      "+-----------------+----------+--------+---------+\n",
      "|provider_group_id|       npi|tin_type|      tin|\n",
      "+-----------------+----------+--------+---------+\n",
      "|         10001001|1235233008|       1|043267217|\n",
      "|         10001001|1316041189|       1|043267217|\n",
      "|         10001001|1780788554|       1|043267217|\n",
      "|         10001001|1891068409|       1|043267217|\n",
      "|         10001001|1366459570|       1|111562701|\n",
      "|         10001001|1417915653|       1|113358535|\n",
      "|         10001001|1417915653|       1|133888838|\n",
      "|         10002001|1609829761|       1|000004110|\n",
      "|         10002001|1821482241|       1|000004110|\n",
      "|         10002001|1760986277|       1|006980743|\n",
      "|         10002001|1215075882|       1|010550744|\n",
      "|         10002001|1013917665|       1|010555304|\n",
      "|         10002001|1679780811|       1|010555483|\n",
      "|         10002001|1700093952|       1|010555483|\n",
      "|         10002001|1780072447|       1|010555483|\n",
      "|         10002001|1952532970|       1|010555483|\n",
      "|         10002001|1376647511|       1|010567880|\n",
      "|         10002001|1740287010|       1|010569673|\n",
      "|         10002001|1265538219|       1|010571165|\n",
      "|         10002001|1689625253|       1|010577025|\n",
      "+-----------------+----------+--------+---------+\n",
      "only showing top 20 rows\n",
      "\n"
     ]
    }
   ],
   "source": [
    "df.show()"
   ]
  },
  {
   "cell_type": "code",
   "execution_count": 11,
   "id": "c5d41f50-c3de-4d6f-8853-242c1551a455",
   "metadata": {},
   "outputs": [
    {
     "name": "stdout",
     "output_type": "stream",
     "text": [
      "+-----------------+----------+--------+---------+\n",
      "|provider_group_id|       npi|tin_type|      tin|\n",
      "+-----------------+----------+--------+---------+\n",
      "|         10001001|1235233008|       1|043267217|\n",
      "|         10001001|1316041189|       1|043267217|\n",
      "|         10001001|1780788554|       1|043267217|\n",
      "|         10001001|1891068409|       1|043267217|\n",
      "|         10001001|1366459570|       1|111562701|\n",
      "|         10001001|1417915653|       1|113358535|\n",
      "|         10001001|1417915653|       1|133888838|\n",
      "|         10002001|1609829761|       1|000004110|\n",
      "|         10002001|1821482241|       1|000004110|\n",
      "|         10002001|1760986277|       1|006980743|\n",
      "|         10002001|1215075882|       1|010550744|\n",
      "|         10002001|1013917665|       1|010555304|\n",
      "|         10002001|1679780811|       1|010555483|\n",
      "|         10002001|1700093952|       1|010555483|\n",
      "|         10002001|1780072447|       1|010555483|\n",
      "|         10002001|1952532970|       1|010555483|\n",
      "|         10002001|1376647511|       1|010567880|\n",
      "|         10002001|1740287010|       1|010569673|\n",
      "|         10002001|1265538219|       1|010571165|\n",
      "|         10002001|1689625253|       1|010577025|\n",
      "+-----------------+----------+--------+---------+\n",
      "only showing top 20 rows\n",
      "\n"
     ]
    }
   ],
   "source": [
    "rename_col = df.withColumnRenamed('tin_value','tin')\n",
    "rename_col.show()"
   ]
  },
  {
   "cell_type": "code",
   "execution_count": 12,
   "id": "38f7c99e-f5d9-477e-9c78-d15e948eaeed",
   "metadata": {},
   "outputs": [
    {
     "name": "stdout",
     "output_type": "stream",
     "text": [
      "root\n",
      " |-- provider_group_id: long (nullable = true)\n",
      " |-- npi: long (nullable = true)\n",
      " |-- tin_type: integer (nullable = true)\n",
      " |-- tin: string (nullable = true)\n",
      "\n"
     ]
    }
   ],
   "source": [
    "rename_col.printSchema()"
   ]
  },
  {
   "cell_type": "code",
   "execution_count": 13,
   "id": "6369692e-cf91-4479-8354-53d0a91d37e4",
   "metadata": {},
   "outputs": [],
   "source": [
    "rate_cast = rename_col.withColumn(\"tin_type\",col(\"tin_type\").cast(ShortType()))"
   ]
  },
  {
   "cell_type": "code",
   "execution_count": 14,
   "id": "d2a52a5e-5241-4366-be2f-af2530a8fbd1",
   "metadata": {},
   "outputs": [
    {
     "name": "stdout",
     "output_type": "stream",
     "text": [
      "root\n",
      " |-- provider_group_id: long (nullable = true)\n",
      " |-- npi: long (nullable = true)\n",
      " |-- tin_type: short (nullable = true)\n",
      " |-- tin: string (nullable = true)\n",
      "\n"
     ]
    }
   ],
   "source": [
    "rate_cast.printSchema()"
   ]
  },
  {
   "cell_type": "code",
   "execution_count": 15,
   "id": "17e2a307-ff87-465d-8dab-eedafb1912b1",
   "metadata": {},
   "outputs": [
    {
     "name": "stderr",
     "output_type": "stream",
     "text": [
      "                                                                                "
     ]
    }
   ],
   "source": [
    "\n",
    "rate_cast.write.parquet('in_prov.parquet')\n",
    "\n"
   ]
  },
  {
   "cell_type": "code",
   "execution_count": 16,
   "id": "5e6be017-e6c6-4997-92c6-fc0641295732",
   "metadata": {},
   "outputs": [],
   "source": [
    "# open_df =  spark.read.parquet('in_prov.parquet')"
   ]
  },
  {
   "cell_type": "code",
   "execution_count": null,
   "id": "b26d5ee7-bf59-4b13-9fc1-49e41a79978c",
   "metadata": {},
   "outputs": [],
   "source": []
  },
  {
   "cell_type": "code",
   "execution_count": null,
   "id": "97a76f2b-5e2b-4fee-b999-c5776e2b8613",
   "metadata": {},
   "outputs": [],
   "source": []
  },
  {
   "cell_type": "code",
   "execution_count": null,
   "id": "a135ebec-0294-46f8-9f25-0b664347960e",
   "metadata": {},
   "outputs": [],
   "source": []
  },
  {
   "cell_type": "code",
   "execution_count": null,
   "id": "444f0ab3-1a7a-428c-88fd-7ce18c3faaf9",
   "metadata": {},
   "outputs": [],
   "source": []
  },
  {
   "cell_type": "code",
   "execution_count": null,
   "id": "29c1547e-8286-476c-a657-639cdf4c4adf",
   "metadata": {},
   "outputs": [],
   "source": []
  }
 ],
 "metadata": {
  "kernelspec": {
   "display_name": "Python 3 (ipykernel)",
   "language": "python",
   "name": "python3"
  },
  "language_info": {
   "codemirror_mode": {
    "name": "ipython",
    "version": 3
   },
   "file_extension": ".py",
   "mimetype": "text/x-python",
   "name": "python",
   "nbconvert_exporter": "python",
   "pygments_lexer": "ipython3",
   "version": "3.10.12"
  }
 },
 "nbformat": 4,
 "nbformat_minor": 5
}
