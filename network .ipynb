{
 "cells": [
  {
   "cell_type": "code",
   "execution_count": 29,
   "id": "6fad001f-920d-458e-9599-d135115ebf87",
   "metadata": {},
   "outputs": [],
   "source": [
    "from pyspark.sql import SparkSession \n",
    "from pyspark.sql.functions import explode,col,hash,expr,split,array\n",
    "from pyspark.sql.types import ArrayType, IntegerType, ShortType\n"
   ]
  },
  {
   "cell_type": "code",
   "execution_count": 30,
   "id": "7b1755b9-3811-474c-a8a0-21fe58ce18a3",
   "metadata": {},
   "outputs": [],
   "source": [
    "spark = SparkSession.builder.appName('network').config(\"spark.driver.memory\", \"4g\").getOrCreate()"
   ]
  },
  {
   "cell_type": "code",
   "execution_count": 31,
   "id": "e21f1e30-2fd8-4712-9060-6cfdf246063e",
   "metadata": {},
   "outputs": [
    {
     "data": {
      "text/html": [
       "\n",
       "            <div>\n",
       "                <p><b>SparkSession - in-memory</b></p>\n",
       "                \n",
       "        <div>\n",
       "            <p><b>SparkContext</b></p>\n",
       "\n",
       "            <p><a href=\"http://10.10.42.113:4041\">Spark UI</a></p>\n",
       "\n",
       "            <dl>\n",
       "              <dt>Version</dt>\n",
       "                <dd><code>v3.5.5</code></dd>\n",
       "              <dt>Master</dt>\n",
       "                <dd><code>local[*]</code></dd>\n",
       "              <dt>AppName</dt>\n",
       "                <dd><code>network</code></dd>\n",
       "            </dl>\n",
       "        </div>\n",
       "        \n",
       "            </div>\n",
       "        "
      ],
      "text/plain": [
       "<pyspark.sql.session.SparkSession at 0x72983c085900>"
      ]
     },
     "execution_count": 31,
     "metadata": {},
     "output_type": "execute_result"
    }
   ],
   "source": [
    "spark"
   ]
  },
  {
   "cell_type": "code",
   "execution_count": 32,
   "id": "7f79e269-d488-4729-a778-30ce51fde4d8",
   "metadata": {},
   "outputs": [
    {
     "name": "stderr",
     "output_type": "stream",
     "text": [
      "                                                                                "
     ]
    }
   ],
   "source": [
    "df_pyspark = spark.read.option('multiline','true').json('rate.json')\n"
   ]
  },
  {
   "cell_type": "code",
   "execution_count": 33,
   "id": "1590d741-c511-42b5-a232-a2ebf2cad0a9",
   "metadata": {},
   "outputs": [
    {
     "name": "stdout",
     "output_type": "stream",
     "text": [
      "root\n",
      " |-- billing_code: string (nullable = true)\n",
      " |-- billing_code_type: string (nullable = true)\n",
      " |-- billing_code_type_version: string (nullable = true)\n",
      " |-- description: string (nullable = true)\n",
      " |-- name: string (nullable = true)\n",
      " |-- negotiated_rates: array (nullable = true)\n",
      " |    |-- element: struct (containsNull = true)\n",
      " |    |    |-- negotiated_prices: array (nullable = true)\n",
      " |    |    |    |-- element: struct (containsNull = true)\n",
      " |    |    |    |    |-- additional_information: string (nullable = true)\n",
      " |    |    |    |    |-- billing_class: string (nullable = true)\n",
      " |    |    |    |    |-- billing_code_modifier: array (nullable = true)\n",
      " |    |    |    |    |    |-- element: string (containsNull = true)\n",
      " |    |    |    |    |-- expiration_date: string (nullable = true)\n",
      " |    |    |    |    |-- negotiated_rate: double (nullable = true)\n",
      " |    |    |    |    |-- negotiated_type: string (nullable = true)\n",
      " |    |    |    |    |-- service_code: array (nullable = true)\n",
      " |    |    |    |    |    |-- element: string (containsNull = true)\n",
      " |    |    |-- provider_references: array (nullable = true)\n",
      " |    |    |    |-- element: long (containsNull = true)\n",
      " |-- negotiation_arrangement: string (nullable = true)\n",
      "\n"
     ]
    }
   ],
   "source": [
    "df_pyspark.printSchema()"
   ]
  },
  {
   "cell_type": "code",
   "execution_count": 34,
   "id": "2d4d68fe-1e95-4cf5-b60d-a7e787fe7ee1",
   "metadata": {},
   "outputs": [],
   "source": [
    "network_group = df_pyspark.withColumn('new_network',explode('negotiated_rates'))\n",
    "network_agn = network_group.withColumn('newest_network',explode('new_network.negotiated_prices'))\n",
    "\n",
    "network_again = network_agn.select(\n",
    "    \"billing_code\",\"billing_code_type\",\"negotiation_arrangement\",\n",
    "    col('newest_network.billing_class').alias('billing_class'),\n",
    "    col('newest_network.negotiated_rate').alias('negotiated_rate'),\n",
    "    \n",
    "    col('newest_network.billing_code_modifier').alias('billing_code_modifier'),\n",
    "    col('newest_network.negotiated_type').alias('negotiated_type'),\n",
    "    col('newest_network.service_code').alias('service_code'),\n",
    "    col('new_network.provider_references').alias('provider_group_id')\n",
    "    \n",
    ")\n",
    "# network_again.show()\n",
    "\n",
    "\n",
    "    \n",
    "    "
   ]
  },
  {
   "cell_type": "code",
   "execution_count": 35,
   "id": "02918deb-897b-4f67-a361-ec222a9336fa",
   "metadata": {
    "scrolled": true
   },
   "outputs": [
    {
     "name": "stdout",
     "output_type": "stream",
     "text": [
      "root\n",
      " |-- billing_code: string (nullable = true)\n",
      " |-- billing_code_type: string (nullable = true)\n",
      " |-- negotiation_arrangement: string (nullable = true)\n",
      " |-- billing_class: string (nullable = true)\n",
      " |-- negotiated_rate: double (nullable = true)\n",
      " |-- billing_code_modifier: array (nullable = true)\n",
      " |    |-- element: string (containsNull = true)\n",
      " |-- negotiated_type: string (nullable = true)\n",
      " |-- service_code: array (nullable = true)\n",
      " |    |-- element: string (containsNull = true)\n",
      " |-- provider_group_id: array (nullable = true)\n",
      " |    |-- element: long (containsNull = true)\n",
      "\n"
     ]
    }
   ],
   "source": [
    "network_again.printSchema()"
   ]
  },
  {
   "cell_type": "markdown",
   "id": "497e2c6e-09d5-42ab-8318-527b5ccf769f",
   "metadata": {},
   "source": [
    "### removing the null value from the billing code\n"
   ]
  },
  {
   "cell_type": "code",
   "execution_count": 36,
   "id": "3377439c-f31d-4c8a-a2d2-628f9565df3b",
   "metadata": {},
   "outputs": [],
   "source": [
    "removena_bc = network_again.dropna(subset=['billing_code'])"
   ]
  },
  {
   "cell_type": "code",
   "execution_count": 37,
   "id": "912660ca-ad34-499f-97d6-81770b1fa53c",
   "metadata": {},
   "outputs": [],
   "source": [
    "df_cast = removena_bc.withColumn(\"service_code\",col(\"service_code\").cast(ArrayType(IntegerType())))\n"
   ]
  },
  {
   "cell_type": "code",
   "execution_count": 38,
   "id": "10c8412b-2e29-4b01-bb50-c9a790053233",
   "metadata": {},
   "outputs": [
    {
     "name": "stdout",
     "output_type": "stream",
     "text": [
      "root\n",
      " |-- billing_code: string (nullable = true)\n",
      " |-- billing_code_type: string (nullable = true)\n",
      " |-- negotiation_arrangement: string (nullable = true)\n",
      " |-- billing_class: string (nullable = true)\n",
      " |-- negotiated_rate: double (nullable = true)\n",
      " |-- billing_code_modifier: array (nullable = true)\n",
      " |    |-- element: string (containsNull = true)\n",
      " |-- negotiated_type: string (nullable = true)\n",
      " |-- service_code: array (nullable = true)\n",
      " |    |-- element: integer (containsNull = true)\n",
      " |-- provider_group_id: array (nullable = true)\n",
      " |    |-- element: long (containsNull = true)\n",
      "\n"
     ]
    }
   ],
   "source": [
    "df_cast.printSchema()"
   ]
  },
  {
   "cell_type": "code",
   "execution_count": 39,
   "id": "01eb4c13-d1f6-46e4-b356-cebf5e9a8060",
   "metadata": {},
   "outputs": [
    {
     "name": "stderr",
     "output_type": "stream",
     "text": [
      "                                                                                "
     ]
    }
   ],
   "source": [
    "df_cast.write.parquet('in_net.parquet')"
   ]
  },
  {
   "cell_type": "markdown",
   "id": "fe6628da-632c-40ee-b308-542156a447de",
   "metadata": {},
   "source": []
  },
  {
   "cell_type": "code",
   "execution_count": null,
   "id": "5057846c-8468-4934-a8fe-16a2c1af83f0",
   "metadata": {},
   "outputs": [],
   "source": []
  },
  {
   "cell_type": "code",
   "execution_count": 17,
   "id": "ca55d63b-00e8-46a4-952b-9017b286a8af",
   "metadata": {},
   "outputs": [],
   "source": [
    "                   \n",
    "                            "
   ]
  },
  {
   "cell_type": "markdown",
   "id": "41047663-6571-4849-9fec-abfcc30b54fa",
   "metadata": {},
   "source": []
  },
  {
   "cell_type": "code",
   "execution_count": 11,
   "id": "a1c05ef0-1a76-4edd-b3d0-c2ec4fd50383",
   "metadata": {},
   "outputs": [],
   "source": []
  },
  {
   "cell_type": "code",
   "execution_count": 12,
   "id": "58c78d4c-c047-40d6-b49e-3b51520f5845",
   "metadata": {},
   "outputs": [],
   "source": []
  },
  {
   "cell_type": "markdown",
   "id": "2c58a08c-9d8a-458f-adfe-934cc4d49239",
   "metadata": {},
   "source": []
  },
  {
   "cell_type": "code",
   "execution_count": null,
   "id": "d629e77c-42df-4d60-9cd6-a1321a24b6bd",
   "metadata": {},
   "outputs": [],
   "source": [
    "\n"
   ]
  },
  {
   "cell_type": "code",
   "execution_count": 16,
   "id": "26127f79-b027-4f79-b4eb-d6f877c2569f",
   "metadata": {},
   "outputs": [],
   "source": []
  },
  {
   "cell_type": "code",
   "execution_count": null,
   "id": "a2315ba9-6abc-4f50-af09-f484769d2e6f",
   "metadata": {},
   "outputs": [],
   "source": [
    "\n"
   ]
  },
  {
   "cell_type": "code",
   "execution_count": 21,
   "id": "0eb4c069-435c-4f00-81ef-7989821b77da",
   "metadata": {},
   "outputs": [],
   "source": []
  },
  {
   "cell_type": "code",
   "execution_count": null,
   "id": "188c8bb7-41de-4d24-809b-dfecab0cb57d",
   "metadata": {},
   "outputs": [],
   "source": []
  },
  {
   "cell_type": "code",
   "execution_count": null,
   "id": "bdefe372-b276-46fb-a533-f92bebf5bad9",
   "metadata": {},
   "outputs": [],
   "source": []
  },
  {
   "cell_type": "code",
   "execution_count": null,
   "id": "4fdf7055-237c-4996-99c7-67af3c8b1590",
   "metadata": {},
   "outputs": [],
   "source": []
  },
  {
   "cell_type": "code",
   "execution_count": null,
   "id": "5bb3b829-282c-4079-ac5a-87d4d6b39194",
   "metadata": {},
   "outputs": [],
   "source": []
  },
  {
   "cell_type": "code",
   "execution_count": null,
   "id": "a0f8625c-b833-461b-a405-5561c35fde94",
   "metadata": {},
   "outputs": [],
   "source": []
  }
 ],
 "metadata": {
  "kernelspec": {
   "display_name": "Python 3 (ipykernel)",
   "language": "python",
   "name": "python3"
  },
  "language_info": {
   "codemirror_mode": {
    "name": "ipython",
    "version": 3
   },
   "file_extension": ".py",
   "mimetype": "text/x-python",
   "name": "python",
   "nbconvert_exporter": "python",
   "pygments_lexer": "ipython3",
   "version": "3.10.12"
  }
 },
 "nbformat": 4,
 "nbformat_minor": 5
}
