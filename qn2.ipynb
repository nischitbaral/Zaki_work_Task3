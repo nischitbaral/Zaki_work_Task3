{
 "cells": [
  {
   "cell_type": "code",
   "execution_count": 3,
   "id": "a911ed6b-1007-4a88-89df-1e6df32b3899",
   "metadata": {},
   "outputs": [],
   "source": [
    "data = []\n",
    "with open('orders_demo_data.csv', 'r') as file:\n",
    "    header = file.readline().strip().split(',')  \n",
    "    for line in file:\n",
    "        values = line.strip().split(',')  \n",
    "        row = dict(zip(header, values))\n",
    "        data.append(row)\n",
    "\n"
   ]
  },
  {
   "cell_type": "code",
   "execution_count": 4,
   "id": "ce317913-6521-42ca-a97c-257701a752b5",
   "metadata": {},
   "outputs": [],
   "source": [
    "category_stats = {}  \n",
    "for order in data:\n",
    "    category = order['product_category']\n",
    "    amount = float(order['amount'])\n",
    "    \n",
    "    if category not in category_stats:\n",
    "        category_stats[category] = {'order_count': 0, 'total_amount': 0.0}\n",
    "    \n",
    "    category_stats[category]['order_count'] += 1\n",
    "    category_stats[category]['total_amount'] += amount\n",
    "    "
   ]
  },
  {
   "cell_type": "code",
   "execution_count": 6,
   "id": "ba8a6c21-1f04-4045-8ec0-20af5884dd5c",
   "metadata": {},
   "outputs": [
    {
     "name": "stdout",
     "output_type": "stream",
     "text": [
      "Category Order Count Total Amount\n",
      "----------------------------------------\n",
      "Clothing 23 6152.36\n",
      "Home 22 6188.31\n",
      "Electronics 25 6761.85\n",
      "Toys 16 4000.36\n",
      "Books 14 3522.85\n"
     ]
    }
   ],
   "source": [
    "print(\"Category\", \"Order Count\", \"Total Amount\")\n",
    "print(\"-\" * 40)\n",
    "for category, values in category_stats.items():\n",
    "    print(f\"{category} {values['order_count']} {values['total_amount']:.2f}\")"
   ]
  },
  {
   "cell_type": "code",
   "execution_count": null,
   "id": "32a8efef-862c-42a6-90d5-e56c3f27d707",
   "metadata": {},
   "outputs": [],
   "source": []
  }
 ],
 "metadata": {
  "kernelspec": {
   "display_name": "Python 3 (ipykernel)",
   "language": "python",
   "name": "python3"
  },
  "language_info": {
   "codemirror_mode": {
    "name": "ipython",
    "version": 3
   },
   "file_extension": ".py",
   "mimetype": "text/x-python",
   "name": "python",
   "nbconvert_exporter": "python",
   "pygments_lexer": "ipython3",
   "version": "3.10.12"
  }
 },
 "nbformat": 4,
 "nbformat_minor": 5
}
